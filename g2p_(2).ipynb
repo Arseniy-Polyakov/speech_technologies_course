{
  "nbformat": 4,
  "nbformat_minor": 0,
  "metadata": {
    "colab": {
      "provenance": [],
      "include_colab_link": true
    },
    "kernelspec": {
      "name": "python3",
      "display_name": "Python 3"
    },
    "language_info": {
      "name": "python"
    }
  },
  "cells": [
    {
      "cell_type": "markdown",
      "metadata": {
        "id": "view-in-github",
        "colab_type": "text"
      },
      "source": [
        "<a href=\"https://colab.research.google.com/github/Arseniy-Polyakov/speech_technologies_course/blob/main/g2p_(2).ipynb\" target=\"_parent\"><img src=\"https://colab.research.google.com/assets/colab-badge.svg\" alt=\"Open In Colab\"/></a>"
      ]
    },
    {
      "cell_type": "code",
      "execution_count": 1,
      "metadata": {
        "colab": {
          "base_uri": "https://localhost:8080/"
        },
        "id": "_f2a26r9b8ER",
        "outputId": "db2f5395-7d26-4ee7-9402-0fbd10f6e36e"
      },
      "outputs": [
        {
          "output_type": "stream",
          "name": "stdout",
          "text": [
            "Collecting phonetisaurus\n",
            "  Downloading phonetisaurus-0.3.0-py3-none-manylinux1_x86_64.whl.metadata (2.3 kB)\n",
            "Downloading phonetisaurus-0.3.0-py3-none-manylinux1_x86_64.whl (12.1 MB)\n",
            "\u001b[2K   \u001b[90m━━━━━━━━━━━━━━━━━━━━━━━━━━━━━━━━━━━━━━━━\u001b[0m \u001b[32m12.1/12.1 MB\u001b[0m \u001b[31m7.8 MB/s\u001b[0m eta \u001b[36m0:00:00\u001b[0m\n",
            "\u001b[?25hInstalling collected packages: phonetisaurus\n",
            "Successfully installed phonetisaurus-0.3.0\n"
          ]
        }
      ],
      "source": [
        "!pip install phonetisaurus"
      ]
    },
    {
      "cell_type": "markdown",
      "source": [
        "Код, который обучает модель (если вы захотите убедиться, что я вас не обманул)"
      ],
      "metadata": {
        "id": "UrUkVLU8IW1S"
      }
    },
    {
      "cell_type": "code",
      "source": [
        "!wget http://downloads.sourceforge.net/project/cmusphinx/Acoustic%20and%20Language%20Models/Russian/zero_ru_cont_8k_v3.tar.gz"
      ],
      "metadata": {
        "colab": {
          "base_uri": "https://localhost:8080/"
        },
        "id": "ns8LFBz9_wMK",
        "outputId": "95671b68-53a0-4f26-b8d5-6ed9acf4d676"
      },
      "execution_count": null,
      "outputs": [
        {
          "output_type": "stream",
          "name": "stdout",
          "text": [
            "--2024-02-13 10:26:39--  http://downloads.sourceforge.net/project/cmusphinx/Acoustic%20and%20Language%20Models/Russian/zero_ru_cont_8k_v3.tar.gz\n",
            "Resolving downloads.sourceforge.net (downloads.sourceforge.net)... 204.68.111.105\n",
            "Connecting to downloads.sourceforge.net (downloads.sourceforge.net)|204.68.111.105|:80... connected.\n",
            "HTTP request sent, awaiting response... 302 Found\n",
            "Location: http://cytranet.dl.sourceforge.net/project/cmusphinx/Acoustic%20and%20Language%20Models/Russian/zero_ru_cont_8k_v3.tar.gz [following]\n",
            "--2024-02-13 10:26:39--  http://cytranet.dl.sourceforge.net/project/cmusphinx/Acoustic%20and%20Language%20Models/Russian/zero_ru_cont_8k_v3.tar.gz\n",
            "Resolving cytranet.dl.sourceforge.net (cytranet.dl.sourceforge.net)... 162.251.237.20\n",
            "Connecting to cytranet.dl.sourceforge.net (cytranet.dl.sourceforge.net)|162.251.237.20|:80... connected.\n",
            "HTTP request sent, awaiting response... 200 OK\n",
            "Length: 192976894 (184M) [application/x-gzip]\n",
            "Saving to: ‘zero_ru_cont_8k_v3.tar.gz’\n",
            "\n",
            "zero_ru_cont_8k_v3. 100%[===================>] 184.04M  25.3MB/s    in 7.8s    \n",
            "\n",
            "2024-02-13 10:26:47 (23.6 MB/s) - ‘zero_ru_cont_8k_v3.tar.gz’ saved [192976894/192976894]\n",
            "\n"
          ]
        }
      ]
    },
    {
      "cell_type": "code",
      "source": [
        "!gunzip -dc zero_ru_cont_8k_v3.tar.gz | tar -x"
      ],
      "metadata": {
        "id": "kyrr93yZ_y3A"
      },
      "execution_count": null,
      "outputs": []
    },
    {
      "cell_type": "code",
      "source": [
        "!phonetisaurus train --model model.fst zero_ru_cont_8k_v3/ru.dic"
      ],
      "metadata": {
        "id": "Iwn-QdY7dYPD"
      },
      "execution_count": null,
      "outputs": []
    },
    {
      "cell_type": "markdown",
      "source": [
        "Скачать модель:"
      ],
      "metadata": {
        "id": "8P93FTQXLpvO"
      }
    },
    {
      "cell_type": "code",
      "source": [
        "!wget https://pkholyavin.github.io/speechtechhse/model.fst"
      ],
      "metadata": {
        "id": "_azAG5WQLA7s",
        "colab": {
          "base_uri": "https://localhost:8080/"
        },
        "outputId": "efc6fbd8-7220-4554-d03a-9156ee6c1d96"
      },
      "execution_count": 2,
      "outputs": [
        {
          "output_type": "stream",
          "name": "stdout",
          "text": [
            "--2025-10-15 14:05:39--  https://pkholyavin.github.io/speechtechhse/model.fst\n",
            "Resolving pkholyavin.github.io (pkholyavin.github.io)... 185.199.111.153, 185.199.110.153, 185.199.109.153, ...\n",
            "Connecting to pkholyavin.github.io (pkholyavin.github.io)|185.199.111.153|:443... connected.\n",
            "HTTP request sent, awaiting response... 200 OK\n",
            "Length: 100157973 (96M) [image/vnd.fst]\n",
            "Saving to: ‘model.fst’\n",
            "\n",
            "model.fst           100%[===================>]  95.52M   361MB/s    in 0.3s    \n",
            "\n",
            "2025-10-15 14:05:42 (361 MB/s) - ‘model.fst’ saved [100157973/100157973]\n",
            "\n"
          ]
        }
      ]
    },
    {
      "cell_type": "markdown",
      "source": [
        "Использование модели: вариант 1"
      ],
      "metadata": {
        "id": "ynnvhXw2Ilj5"
      }
    },
    {
      "cell_type": "code",
      "source": [
        "!phonetisaurus predict --model model.fst апстену"
      ],
      "metadata": {
        "colab": {
          "base_uri": "https://localhost:8080/"
        },
        "id": "WTQZc4WkfPgy",
        "outputId": "246dc38b-8f82-425a-b9a8-b2b633e96b13"
      },
      "execution_count": null,
      "outputs": [
        {
          "output_type": "stream",
          "name": "stdout",
          "text": [
            "апстену a p ss tt i n uu\n"
          ]
        }
      ]
    },
    {
      "cell_type": "markdown",
      "source": [
        "Вариант 2"
      ],
      "metadata": {
        "id": "YFq2LeDWIq3r"
      }
    },
    {
      "cell_type": "code",
      "source": [
        "import phonetisaurus"
      ],
      "metadata": {
        "id": "6wYZQV29cDuq"
      },
      "execution_count": 3,
      "outputs": []
    },
    {
      "cell_type": "code",
      "source": [
        "with open(\"/content/input_text.txt\", \"rt\", encoding=\"utf-8\") as file:\n",
        "  text = file.read()"
      ],
      "metadata": {
        "id": "jyFOdqVVMZRa"
      },
      "execution_count": 5,
      "outputs": []
    },
    {
      "cell_type": "code",
      "source": [
        "for word in phonetisaurus.predict(text.split(), \"model.fst\"):\n",
        "    print(word)"
      ],
      "metadata": {
        "colab": {
          "base_uri": "https://localhost:8080/"
        },
        "id": "U7dsUuFxGeaj",
        "outputId": "c2450f45-a796-40d9-ef96-f0941d76a4ad"
      },
      "execution_count": 6,
      "outputs": [
        {
          "output_type": "stream",
          "name": "stdout",
          "text": [
            "('Был', ['y', 'l'])\n",
            "('тихий', ['tt', 'ii', 'hh', 'i', 'j'])\n",
            "('серый', ['ss', 'je', 'r', 'y', 'j'])\n",
            "('вечер.', ['vv', 'je', 'ch', 'i', 'r'])\n",
            "('Дул', ['uu', 'l'])\n",
            "('ветер,', ['vv', 'je', 'tt', 'i', 'r'])\n",
            "('слабый', ['s', 'l', 'aa', 'b', 'y', 'j'])\n",
            "('и', ['i'])\n",
            "('теплый.', ['tt', 'i', 'p', 'l', 'y', 'j'])\n",
            "('Небо', ['j', 'i', 'b', 'ay'])\n",
            "('было', ['b', 'y', 'l', 'oo'])\n",
            "('покрыто', ['p', 'a', 'k', 'r', 'yy', 't', 'ay'])\n",
            "('тучами,', ['t', 'uu', 'ch', 'i', 'mm', 'i'])\n",
            "('сквозь', ['s', 'k', 'v', 'oo', 'ss'])\n",
            "('которые', ['k', 'a', 't', 'oo', 'r', 'y', 'i'])\n",
            "('иногда', ['i', 'n', 'a', 'g', 'd', 'aa'])\n",
            "('прорывались', ['p', 'r', 'ay', 'r', 'y', 'v', 'aa', 'll', 'i', 'ss'])\n",
            "('лучи', ['l', 'u', 'ch', 'ii'])\n",
            "('заходящего', ['z', 'ay', 'h', 'a', 'dd', 'ja', 'sch', 'i', 'v', 'ay'])\n",
            "('солнца.', ['s', 'oo', 'n', 'c', 'ay'])\n",
            "('Наш', ['aa', 'sh'])\n",
            "('автобус', ['a', 'f', 't', 'oo', 'b', 'u', 's'])\n",
            "('номер', ['n', 'oo', 'mm', 'i', 'r'])\n",
            "('шел', ['sh', 'y', 'l'])\n",
            "('на', ['n', 'aa'])\n",
            "('запад.', ['z', 'aa', 'p', 'ay', 't'])\n",
            "('Мы', ['yy'])\n",
            "('все', ['f', 'ss', 'i'])\n",
            "('ехали', ['j', 'je', 'h', 'ay', 'll', 'i'])\n",
            "('в', ['f'])\n",
            "('великий', ['vv', 'i', 'll', 'ii', 'kk', 'i', 'j'])\n",
            "('старый', ['s', 't', 'aa', 'r', 'y', 'j'])\n",
            "('город,', ['g', 'oo', 'r', 'ay', 't'])\n",
            "('электрические', ['y', 'll', 'i', 'k', 't', 'rr', 'ii', 'ch', 'i', 's', 'kk', 'i', 'i'])\n",
            "('огни', ['a', 'g', 'nn', 'ii'])\n",
            "('которого', ['k', 'a', 't', 'oo', 'r', 'ay', 'v', 'ay'])\n",
            "('были', ['b', 'y', 'll', 'i'])\n",
            "('видны', ['vv', 'ii', 'd', 'n', 'y'])\n",
            "('далеко', ['d', 'ay', 'll', 'i', 'k', 'oo'])\n",
            "('впереди.', ['f', 'pp', 'i', 'rr', 'i', 'dd', 'ii'])\n",
            "('По', ['oo'])\n",
            "('центральному', ['c', 'y', 'n', 't', 'r', 'aa', 'll', 'n', 'ay', 'm', 'u'])\n",
            "('радио', ['r', 'ay', 'dd', 'i', 'ay'])\n",
            "('передавали', ['pp', 'i', 'rr', 'i', 'd', 'a', 'v', 'aa', 'll', 'i'])\n",
            "('легкую', ['ll', 'i', 'h', 'k', 'u', 'uj'])\n",
            "('музыку.', ['m', 'uu', 'z', 'y', 'k', 'u'])\n",
            "('Хор', ['oo', 'r'])\n",
            "('ребят', ['rr', 'i', 'bb', 'ja', 't'])\n",
            "('исполнял', ['i', 's', 'p', 'a', 'l', 'nn', 'ja', 'l'])\n",
            "('песенку', ['pp', 'je', 'ss', 'i', 'n', 'k', 'u'])\n",
            "('«Золото', ['oo', 'l', 'ay', 't', 'ay'])\n",
            "('осени».', ['a', 'ss', 'i', 'nn', 'ii'])\n",
            "('невольно', ['nn', 'i', 'v', 'oo', 'll', 'n', 'ay'])\n",
            "('прислушивался', ['p', 'rr', 'i', 's', 'l', 'uu', 'sh', 'y', 'v', 'ay', 'l', 'ss', 'i'])\n",
            "('к', ['k'])\n",
            "('разговорам', ['r', 'ay', 'z', 'g', 'a', 'v', 'oo', 'r', 'ay', 'm'])\n",
            "('в', ['f'])\n",
            "('автобусе.', ['a', 'f', 't', 'oo', 'b', 'u', 'ss', 'i'])\n",
            "('Сосед-моряк,', ['a', 'ss', 'je', 't', 'm', 'a', 'rr', 'ja', 'k'])\n",
            "('не', ['nn', 'je'])\n",
            "('раз', ['r', 'ay', 's'])\n",
            "('бывавший', ['b', 'y', 'v', 'aa', 'f', 'sh', 'y', 'j'])\n",
            "('за', ['z', 'ay'])\n",
            "('границей,', ['g', 'r', 'a', 'nn', 'ii', 'c', 'y', 'j'])\n",
            "('рассказывал', ['r', 'a', 's', 'k', 'aa', 'z', 'y', 'v', 'ay', 'l'])\n",
            "('о', ['oo'])\n",
            "('различных', ['r', 'a', 'z', 'll', 'ii', 'ch', 'n', 'y', 'h'])\n",
            "('странах,', ['s', 't', 'r', 'aa', 'n', 'ay', 'h'])\n",
            "('о', ['oo'])\n",
            "('музеях,', ['m', 'u', 'zz', 'je', 'i', 'h'])\n",
            "('о', ['oo'])\n",
            "('газетах.', ['g', 'a', 'zz', 'je', 't', 'ay', 'h'])\n",
            "('них', ['nn', 'i', 'h'])\n",
            "('защищают', ['z', 'ay', 'sch', 'i', 'sch', 'ja', 'uj', 't'])\n",
            "('всеобщее', ['f', 'ss', 'i', 'oo', 'p', 'sch', 'i', 'i'])\n",
            "('равенство,', ['r', 'aa', 'vv', 'i', 'n', 's', 't', 'v', 'ay'])\n",
            "('говорят', ['g', 'ay', 'v', 'a', 'rr', 'ja', 't'])\n",
            "('о', ['oo'])\n",
            "('нужде', ['n', 'u', 'zh', 'dd', 'je'])\n",
            "('и', ['i'])\n",
            "('судьбе', ['s', 'u', 'dd', 'bb', 'je'])\n",
            "('обыкновенных', ['a', 'b', 'y', 'k', 'n', 'a', 'vv', 'je', 'n', 'y', 'h'])\n",
            "('рабочих.', ['r', 'a', 'b', 'oo', 'ch', 'i', 'h'])\n",
            "('Тема', ['j', 'je', 'm', 'ay'])\n",
            "('была', ['b', 'y', 'l', 'aa'])\n",
            "('мне', ['m', 'nn', 'je'])\n",
            "('знакома:', ['z', 'n', 'a', 'k', 'oo', 'm', 'ay'])\n",
            "('у', ['u'])\n",
            "('нас', ['n', 'ay', 's'])\n",
            "('достаточно', ['d', 'a', 's', 't', 'aa', 't', 'ay', 'ch', 'n', 'ay'])\n",
            "('много', ['m', 'n', 'oo', 'v', 'ay'])\n",
            "('пишут', ['pp', 'ii', 'sh', 'u', 't'])\n",
            "('о', ['oo'])\n",
            "('внешних', ['v', 'nn', 'je', 'sh', 'nn', 'i', 'h'])\n",
            "('связях,', ['s', 'vv', 'ja', 'zz', 'i', 'h'])\n",
            "('необходимых', ['nn', 'i', 'ay', 'p', 'h', 'a', 'dd', 'ii', 'm', 'y', 'h'])\n",
            "('для', ['d', 'll', 'ja'])\n",
            "('механизации', ['mm', 'i', 'h', 'ay', 'nn', 'i', 'z', 'aa', 'c', 'y', 'i'])\n",
            "('в', ['f'])\n",
            "('объединениях', ['a', 'b', 'j', 'i', 'dd', 'i', 'nn', 'je', 'nn', 'i', 'i', 'h'])\n",
            "('заводов.', ['z', 'a', 'v', 'oo', 'd', 'ay', 'f'])\n",
            "('Впереди', ['pp', 'i', 'rr', 'i', 'dd', 'ii'])\n",
            "('меня', ['mm', 'i', 'nn', 'ja'])\n",
            "('двое', ['d', 'v', 'ay', 'i'])\n",
            "('ученых', ['u', 'ch', 'je', 'n', 'y', 'h'])\n",
            "('говорили', ['g', 'ay', 'v', 'a', 'rr', 'ii', 'll', 'i'])\n",
            "('о', ['oo'])\n",
            "('предстоящей', ['p', 'rr', 'i', 'c', 't', 'a', 'j', 'ja', 'sch', 'i', 'j'])\n",
            "('конференции:', ['k', 'ay', 'n', 'ff', 'i', 'rr', 'je', 'n', 'c', 'y', 'i'])\n",
            "('«Наша', ['a', 'sh', 'aa'])\n",
            "('лаборатория', ['l', 'ay', 'b', 'ay', 'r', 'a', 't', 'oo', 'rr', 'i', 'i'])\n",
            "('семь', ['ss', 'je', 'mm'])\n",
            "('лет', ['ll', 'i', 't'])\n",
            "('отдала', ['a', 'd', 'd', 'a', 'l', 'aa'])\n",
            "('эксперименту', ['y', 'k', 's', 'pp', 'i', 'rr', 'i', 'mm', 'je', 'n', 't', 'u'])\n",
            "('по', ['p', 'ay'])\n",
            "('проверке', ['p', 'r', 'a', 'vv', 'je', 'r', 'kk', 'i'])\n",
            "('этой', ['ee', 't', 'ay', 'j'])\n",
            "('формулы.', ['f', 'oo', 'r', 'm', 'u', 'l', 'y'])\n",
            "('Нам', ['aa', 'm'])\n",
            "('было', ['b', 'y', 'l', 'oo'])\n",
            "('неизвестно', ['nn', 'i', 'i', 'z', 'vv', 'je', 's', 'n', 'ay'])\n",
            "('значение', ['z', 'n', 'a', 'ch', 'je', 'nn', 'i', 'i'])\n",
            "('функции', ['f', 'uu', 'n', 'k', 'c', 'y', 'i'])\n",
            "('сопротивления,', ['s', 'ay', 'p', 'r', 'ay', 'tt', 'i', 'v', 'll', 'je', 'nn', 'i', 'i'])\n",
            "('особенно', ['a', 's', 'oo', 'bb', 'i', 'n', 'ay'])\n",
            "('при', ['p', 'rr', 'ii'])\n",
            "('высоком', ['v', 'y', 's', 'oo', 'k', 'ay', 'm'])\n",
            "('давлении', ['d', 'a', 'v', 'll', 'je', 'nn', 'i', 'i'])\n",
            "('над', ['n', 'ay', 't'])\n",
            "('поверхностью', ['p', 'a', 'vv', 'je', 'r', 'h', 'n', 'ay', 'ss', 'tt', 'j', 'uj'])\n",
            "('жидкости.', ['zh', 'yy', 't', 'k', 'ay', 'ss', 'tt', 'i'])\n",
            "('Опыты', ['p', 'yy', 't', 'y'])\n",
            "('показали,', ['p', 'ay', 'k', 'a', 'z', 'aa', 'll', 'i'])\n",
            "('что', ['ch', 't', 'oo'])\n",
            "('оно', ['a', 'n', 'oo'])\n",
            "('равно', ['r', 'aa', 'v', 'n', 'ay'])\n",
            "('десяти', ['dd', 'i', 'ss', 'i', 'tt', 'i'])\n",
            "('в', ['f'])\n",
            "('пятой', ['pp', 'ja', 't', 'ay', 'j'])\n",
            "('степени', ['ss', 'tt', 'je', 'pp', 'i', 'nn', 'i'])\n",
            "('условных', ['u', 's', 'l', 'oo', 'v', 'n', 'y', 'h'])\n",
            "('единиц».', ['j', 'i', 'dd', 'i', 'nn', 'ii', 'c'])\n",
            "('«Странно,', ['t', 'r', 'ay', 'n', 'ay'])\n",
            "('-', ['j'])\n",
            "('ответил', ['a', 't', 'vv', 'je', 'tt', 'i', 'l'])\n",
            "('его', ['j', 'i', 'v', 'oo'])\n",
            "('товарищ,', ['t', 'a', 'v', 'aa', 'rr', 'i', 'sch'])\n",
            "('-', ['j'])\n",
            "('а', ['aa'])\n",
            "('наш', ['n', 'ay', 'sh'])\n",
            "('преподаватель', ['p', 'rr', 'i', 'p', 'ay', 'd', 'a', 'v', 'aa', 'tt', 'i', 'll'])\n",
            "('Тревогин', ['rr', 'i', 'v', 'oo', 'gg', 'i', 'n'])\n",
            "('в', ['f'])\n",
            "('лекции', ['ll', 'je', 'k', 'c', 'y', 'i'])\n",
            "('называл', ['n', 'ay', 'z', 'y', 'v', 'aa', 'l'])\n",
            "('другую', ['d', 'r', 'u', 'g', 'uu', 'uj'])\n",
            "('цифру.', ['c', 'yy', 'f', 'r', 'u'])\n",
            "('Очевидно,', ['ch', 'i', 'vv', 'ii', 'd', 'n', 'ay'])\n",
            "('это', ['ee', 't', 'ay'])\n",
            "('вызывается', ['v', 'y', 'z', 'y', 'v', 'aa', 'i', 'c', 'ay'])\n",
            "('неравномерным', ['nn', 'i', 'r', 'ay', 'v', 'n', 'a', 'mm', 'je', 'r', 'n', 'y', 'm'])\n",
            "('размещением', ['r', 'ay', 'z', 'mm', 'i', 'sch', 'je', 'nn', 'i', 'i', 'm'])\n",
            "('плотности', ['p', 'l', 'oo', 't', 'n', 'ay', 'ss', 'tt', 'i'])\n",
            "('составляющих.', ['s', 'ay', 's', 't', 'a', 'v', 'll', 'ja', 'uj', 'sch', 'i', 'h'])\n",
            "('думаю,', ['d', 'uu', 'm', 'ay', 'uj'])\n",
            "('теперь', ['tt', 'i', 'pp', 'je', 'rr'])\n",
            "('надо', ['n', 'ay', 'd', 'ay'])\n",
            "('изучить', ['i', 'z', 'u', 'ch', 'ii', 'tt'])\n",
            "('соотношение', ['s', 'a', 't', 'n', 'a', 'sh', 'ee', 'nn', 'i', 'i'])\n",
            "('длины', ['d', 'll', 'i', 'n', 'yy'])\n",
            "('и', ['i'])\n",
            "('объема».', ['a', 'b', 'j', 'je', 'm', 'ay'])\n",
            "('Их', ['h'])\n",
            "('разговор', ['r', 'ay', 'z', 'g', 'a', 'v', 'oo', 'r'])\n",
            "('был', ['b', 'yy', 'l'])\n",
            "('совсем', ['s', 'a', 'f', 'ss', 'je', 'm'])\n",
            "('непонятным', ['nn', 'i', 'p', 'a', 'nn', 'ja', 't', 'n', 'y', 'm'])\n",
            "('для', ['d', 'll', 'ja'])\n",
            "('меня.', ['mm', 'i', 'nn', 'ja'])\n",
            "('обратил', ['a', 'b', 'r', 'a', 'tt', 'ii', 'l'])\n",
            "('внимание', ['v', 'nn', 'i', 'm', 'aa', 'nn', 'i', 'i'])\n",
            "('на', ['n', 'aa'])\n",
            "('женщину,', ['zh', 'ee', 'nn', 'sch', 'i', 'n', 'u'])\n",
            "('которая', ['k', 'a', 't', 'oo', 'r', 'ay', 'i'])\n",
            "('уже', ['u', 'zh', 'ee'])\n",
            "('не', ['nn', 'je'])\n",
            "('в', ['f'])\n",
            "('первый', ['pp', 'je', 'r', 'v', 'y', 'j'])\n",
            "('раз', ['r', 'ay', 's'])\n",
            "('сажала', ['s', 'a', 'zh', 'aa', 'l', 'ay'])\n",
            "('на', ['n', 'aa'])\n",
            "('сиденье', ['ss', 'i', 'dd', 'je', 'nn', 'j', 'i'])\n",
            "('своего', ['s', 'v', 'ay', 'i', 'v', 'oo'])\n",
            "('малыша.', ['m', 'ay', 'l', 'y', 'sh', 'aa'])\n",
            "('Рыжий', ['yy', 'zh', 'y', 'j'])\n",
            "('мальчик,', ['m', 'aa', 'll', 'ch', 'i', 'k'])\n",
            "('которому', ['k', 'a', 't', 'oo', 'r', 'ay', 'm', 'u'])\n",
            "('было', ['b', 'y', 'l', 'oo'])\n",
            "('года', ['g', 'oo', 'd', 'ay'])\n",
            "('три,', ['t', 'rr', 'i'])\n",
            "('отворачивался,', ['a', 't', 'v', 'a', 'r', 'aa', 'ch', 'i', 'v', 'ay', 'l', 'ss', 'i'])\n",
            "('вырывался,', ['v', 'y', 'r', 'y', 'v', 'aa', 'l', 'ss', 'i'])\n",
            "('показывал', ['p', 'a', 'k', 'aa', 'z', 'y', 'v', 'ay', 'l'])\n",
            "('маме', ['m', 'aa', 'mm', 'i'])\n",
            "('розовый', ['r', 'oo', 'z', 'ay', 'v', 'y', 'j'])\n",
            "('язык.', ['j', 'i', 'z', 'yy', 'k'])\n",
            "('решил,', ['rr', 'i', 'sh', 'yy', 'l'])\n",
            "('что', ['ch', 't', 'oo'])\n",
            "('мама', ['m', 'aa', 'm', 'ay'])\n",
            "('сейчас', ['ss', 'i', 'j', 'ch', 'ja', 's'])\n",
            "('рассердится.', ['r', 'a', 'ss', 'je', 'r', 'dd', 'i', 'c', 'ay'])\n",
            "('Но', ['oo'])\n",
            "('она,', ['a', 'n', 'aa'])\n",
            "('стараясь', ['s', 't', 'a', 'r', 'aa', 'i', 'ss'])\n",
            "('сохранять', ['s', 'ay', 'h', 'r', 'a', 'nn', 'ja', 'tt'])\n",
            "('строгий', ['s', 't', 'r', 'oo', 'gg', 'i', 'j'])\n",
            "('вид,', ['vv', 'ii', 't'])\n",
            "('не', ['nn', 'je'])\n",
            "('могла', ['m', 'a', 'g', 'l', 'aa'])\n",
            "('не', ['nn', 'je'])\n",
            "('улыбаться.', ['u', 'l', 'y', 'b', 'aa', 'c', 'ay'])\n",
            "('Было', ['yy', 'l', 'ay'])\n",
            "('видно,', ['vv', 'ii', 'd', 'n', 'ay'])\n",
            "('что', ['ch', 't', 'oo'])\n",
            "('она', ['a', 'n', 'aa'])\n",
            "('очень', ['oo', 'ch', 'i', 'nn'])\n",
            "('любит', ['ll', 'ju', 'bb', 'i', 't'])\n",
            "('своего', ['s', 'v', 'ay', 'i', 'v', 'oo'])\n",
            "('сына,', ['s', 'yy', 'n', 'ay'])\n",
            "('считает,', ['sch', 'i', 't', 'aa', 'i', 't'])\n",
            "('что', ['ch', 't', 'oo'])\n",
            "('лучше', ['l', 'uu', 't', 'sh', 'y'])\n",
            "('нет', ['nn', 'i', 't'])\n",
            "('детей', ['dd', 'i', 'tt', 'je', 'j'])\n",
            "('на', ['n', 'aa'])\n",
            "('свете:', ['s', 'vv', 'je', 'tt', 'i'])\n",
            "('он', ['oo', 'n'])\n",
            "('самый', ['s', 'aa', 'm', 'y', 'j'])\n",
            "('умный,', ['uu', 'm', 'n', 'y', 'j'])\n",
            "('самый', ['s', 'aa', 'm', 'y', 'j'])\n",
            "('милый,', ['mm', 'ii', 'l', 'y', 'j'])\n",
            "('самый', ['s', 'aa', 'm', 'y', 'j'])\n",
            "('веселый.', ['vv', 'je', 'ss', 'i', 'l', 'y', 'j'])\n",
            "('Юный', ['n', 'y', 'j'])\n",
            "('шалун', ['sh', 'a', 'l', 'uu', 'n'])\n",
            "('мог', ['m', 'oo', 'k'])\n",
            "('позволить', ['p', 'a', 'z', 'v', 'oo', 'll', 'i', 'tt'])\n",
            "('себе', ['ss', 'i', 'bb', 'je'])\n",
            "('многое.', ['m', 'n', 'oo', 'g', 'ay', 'i'])\n",
            "('отыскал', ['a', 't', 'y', 's', 'k', 'aa', 'l'])\n",
            "('в', ['f'])\n",
            "('дорожной', ['d', 'a', 'r', 'oo', 'zh', 'n', 'ay', 'j'])\n",
            "('сумке', ['s', 'uu', 'm', 'kk', 'i'])\n",
            "('книгу', ['k', 'nn', 'ii', 'g', 'u'])\n",
            "('о', ['oo'])\n",
            "('животных,', ['zh', 'y', 'v', 'oo', 't', 'n', 'y', 'h'])\n",
            "('которую', ['k', 'a', 't', 'oo', 'r', 'u', 'uj'])\n",
            "('купил', ['k', 'u', 'pp', 'ii', 'l'])\n",
            "('для', ['d', 'll', 'ja'])\n",
            "('дочки,', ['d', 'oo', 'ch', 'kk', 'i'])\n",
            "('вынул', ['v', 'yy', 'n', 'u', 'l'])\n",
            "('ее,', ['j', 'je', 'i'])\n",
            "('открыл.', ['a', 't', 'k', 'r', 'yy', 'l'])\n",
            "('На', ['aa'])\n",
            "('первой', ['pp', 'je', 'r', 'v', 'ay', 'j'])\n",
            "('странице', ['s', 't', 'r', 'a', 'nn', 'ii', 'c', 'y'])\n",
            "('по', ['p', 'ay'])\n",
            "('голубому', ['g', 'ay', 'l', 'u', 'b', 'oo', 'm', 'u'])\n",
            "('небу', ['nn', 'je', 'b', 'u'])\n",
            "('летели', ['ll', 'i', 'tt', 'je', 'll', 'i'])\n",
            "('голуби.', ['g', 'ay', 'l', 'u', 'bb', 'ii'])\n",
            "('«Дядя,', ['j', 'ja', 'dd', 'i'])\n",
            "('это', ['ee', 't', 'ay'])\n",
            "('кто?»', ['k', 't', 'oo'])\n",
            "('-', ['j'])\n",
            "('спросил', ['s', 'p', 'r', 'a', 'ss', 'ii', 'l'])\n",
            "('малыш,', ['m', 'a', 'l', 'yy', 'sh'])\n",
            "('заглядывая', ['z', 'a', 'g', 'll', 'ja', 'd', 'y', 'v', 'ay', 'i'])\n",
            "('на', ['n', 'aa'])\n",
            "('следующую', ['s', 'll', 'je', 'd', 'u', 'uj', 'sch', 'uj', 'uj'])\n",
            "('страницу.', ['s', 't', 'r', 'a', 'nn', 'ii', 'c', 'u'])\n",
            "('«Это', ['t', 'oo'])\n",
            "('кит».', ['kk', 'ii', 't'])\n",
            "('ты', ['t', 'yy'])\n",
            "('знаешь,', ['z', 'n', 'aa', 'i', 'sh'])\n",
            "('сколько', ['s', 'k', 'oo', 'll', 'k', 'ay'])\n",
            "('килограммов', ['kk', 'i', 'l', 'ay', 'g', 'r', 'a', 'm', 'oo', 'f'])\n",
            "('он', ['oo', 'n'])\n",
            "('весит?', ['vv', 'je', 'ss', 'i', 't'])\n",
            "('Сто?', ['t', 'oo'])\n",
            "('Сколько', ['k', 'oo', 'll', 'k', 'ay'])\n",
            "('сантиметров', ['s', 'ay', 'nn', 'tt', 'i', 'mm', 'je', 't', 'r', 'ay', 'f'])\n",
            "('в', ['f'])\n",
            "('секунду', ['ss', 'i', 'k', 'uu', 'n', 'd', 'u'])\n",
            "('он', ['oo', 'n'])\n",
            "('проплывает?', ['p', 'r', 'ay', 'p', 'l', 'y', 'v', 'aa', 'i', 't'])\n",
            "('Двадцать?', ['v', 'aa', 'c', 'ay', 'tt'])\n",
            "('Кит', ['i', 't'])\n",
            "('сильный?', ['ss', 'ii', 'll', 'n', 'y', 'j'])\n",
            "('Он', ['n'])\n",
            "('ест', ['j', 'je', 's', 't'])\n",
            "('мясо?', ['mm', 'ja', 's', 'ay'])\n",
            "('мед?', ['mm', 'i', 't'])\n",
            "('Кто', ['t', 'oo'])\n",
            "('его', ['j', 'i', 'v', 'oo'])\n",
            "('нарисовал?', ['n', 'ay', 'rr', 'i', 's', 'a', 'v', 'aa', 'l'])\n",
            "('Художник?»', ['u', 'd', 'a', 'zh', 'nn', 'ii', 'k'])\n",
            "('Вопросы', ['a', 'p', 'r', 'oo', 's', 'y'])\n",
            "('следовали', ['s', 'll', 'je', 'd', 'ay', 'v', 'ay', 'll', 'i'])\n",
            "('один', ['a', 'dd', 'ii', 'n'])\n",
            "('за', ['z', 'ay'])\n",
            "('другим.', ['d', 'r', 'u', 'gg', 'ii', 'm'])\n",
            "('Мы', ['yy'])\n",
            "('привлекли', ['p', 'rr', 'i', 'v', 'll', 'i', 'k', 'll', 'ii'])\n",
            "('внимание', ['v', 'nn', 'i', 'm', 'aa', 'nn', 'i', 'i'])\n",
            "('пассажиров.', ['p', 'ay', 's', 'a', 'zh', 'yy', 'r', 'ay', 'f'])\n",
            "('Все', ['ss', 'i'])\n",
            "('с', ['s'])\n",
            "('улыбкой', ['u', 'l', 'yy', 'p', 'k', 'ay', 'j'])\n",
            "('следили', ['s', 'll', 'i', 'dd', 'ii', 'll', 'i'])\n",
            "('за', ['z', 'ay'])\n",
            "('нами.', ['n', 'aa', 'mm', 'i'])\n",
            "('Наконец,', ['a', 'k', 'a', 'nn', 'je', 'c'])\n",
            "('мама', ['m', 'aa', 'm', 'ay'])\n",
            "('сказала:', ['s', 'k', 'a', 'z', 'aa', 'l', 'ay'])\n",
            "('«Шурочка,', ['uu', 'r', 'ay', 'ch', 'k', 'ay'])\n",
            "('душа', ['d', 'u', 'sh', 'aa'])\n",
            "('моя,', ['m', 'oo', 'i'])\n",
            "('уже', ['u', 'zh', 'ee'])\n",
            "('поздно,', ['p', 'oo', 'z', 'n', 'ay'])\n",
            "('скоро', ['s', 'k', 'oo', 'r', 'ay'])\n",
            "('ночь.', ['n', 'oo', 'ch'])\n",
            "('Здесь', ['dd', 'i', 'ss'])\n",
            "('нельзя', ['nn', 'i', 'll', 'zz', 'ja'])\n",
            "('шуметь.', ['sh', 'u', 'mm', 'je', 'tt'])\n",
            "('Пойдем', ['oo', 'j', 'dd', 'i', 'm'])\n",
            "('спать.', ['s', 'p', 'aa', 'tt'])\n",
            "('Сядь', ['j', 'i', 'tt'])\n",
            "('сюда».', ['ss', 'uj', 'd', 'aa'])\n",
            "('Сначала', ['n', 'a', 'ch', 'ja', 'l', 'ay'])\n",
            "('Шура', ['u', 'r', 'aa'])\n",
            "('сопротивлялся,', ['s', 'ay', 'p', 'r', 'ay', 'tt', 'i', 'v', 'll', 'ja', 'l', 'ss', 'i'])\n",
            "('тащил', ['t', 'a', 'sch', 'ii', 'l'])\n",
            "('маму', ['m', 'aa', 'm', 'u'])\n",
            "('в', ['f'])\n",
            "('сторону.', ['s', 't', 'oo', 'r', 'ay', 'n', 'u'])\n",
            "('Потом', ['a', 't', 'oo', 'm'])\n",
            "('затих,', ['z', 'a', 'tt', 'ii', 'h'])\n",
            "('держа', ['dd', 'i', 'r', 'zh', 'aa'])\n",
            "('в', ['f'])\n",
            "('руке', ['r', 'uu', 'kk', 'i'])\n",
            "('желтого', ['zh', 'y', 'l', 't', 'oo', 'v', 'ay'])\n",
            "('песика.', ['pp', 'i', 'ss', 'ii', 'k', 'ay'])\n",
            "('Его', ['g', 'ay'])\n",
            "('дыхание', ['d', 'y', 'h', 'aa', 'nn', 'i', 'i'])\n",
            "('было', ['b', 'y', 'l', 'oo'])\n",
            "('чуть', ['ch', 'uj', 'tt'])\n",
            "('слышно.', ['s', 'l', 'yy', 'sh', 'n', 'ay'])\n",
            "('выключил', ['v', 'yy', 'k', 'll', 'uj', 'ch', 'i', 'l'])\n",
            "('лампочку', ['l', 'aa', 'm', 'p', 'ay', 'ch', 'k', 'u'])\n",
            "('дневного', ['d', 'nn', 'i', 'v', 'n', 'oo', 'v', 'ay'])\n",
            "('света.', ['s', 'vv', 'je', 't', 'ay'])\n",
            "('Вид', ['ii', 't'])\n",
            "('спящего', ['s', 'pp', 'ja', 'sch', 'i', 'v', 'ay'])\n",
            "('ребенка', ['rr', 'i', 'bb', 'je', 'n', 'k', 'ay'])\n",
            "('вызвал', ['v', 'yy', 'z', 'v', 'ay', 'l'])\n",
            "('во', ['v', 'oo'])\n",
            "('мне', ['m', 'nn', 'je'])\n",
            "('воспоминания', ['v', 'ay', 's', 'p', 'ay', 'mm', 'i', 'n', 'aa', 'nn', 'i', 'i'])\n",
            "('о', ['oo'])\n",
            "('моем', ['m', 'oo', 'i', 'm'])\n",
            "('детстве.', ['dd', 'je', 'c', 't', 'vv', 'i'])\n",
            "('Тогда', ['oo', 'g', 'd', 'ay'])\n",
            "('беда', ['bb', 'i', 'd', 'aa'])\n",
            "('ходила', ['h', 'a', 'dd', 'ii', 'l', 'ay'])\n",
            "('рядом,', ['rr', 'ja', 'd', 'ay', 'm'])\n",
            "('и', ['i'])\n",
            "('даже', ['d', 'aa', 'zh', 'y'])\n",
            "('необходимый', ['nn', 'i', 'ay', 'p', 'h', 'a', 'dd', 'ii', 'm', 'y', 'j'])\n",
            "('для', ['d', 'll', 'ja'])\n",
            "('жизни', ['zh', 'yy', 'z', 'nn', 'i'])\n",
            "('хлеб', ['h', 'll', 'je', 'p'])\n",
            "('выдавали', ['v', 'y', 'd', 'a', 'v', 'aa', 'll', 'i'])\n",
            "('граммами.', ['g', 'r', 'aa', 'm', 'ay', 'mm', 'i'])\n",
            "('Потом', ['a', 't', 'oo', 'm'])\n",
            "('вспомнил', ['f', 's', 'p', 'oo', 'm', 'nn', 'i', 'l'])\n",
            "('об', ['a', 'p'])\n",
            "('учебе', ['u', 'ch', 'je', 'bb', 'i'])\n",
            "('в', ['f'])\n",
            "('вузе,', ['v', 'uu', 'zz', 'i'])\n",
            "('о', ['oo'])\n",
            "('первых', ['pp', 'je', 'r', 'v', 'y', 'h'])\n",
            "('годах', ['g', 'oo', 'd', 'ay', 'h'])\n",
            "('на', ['n', 'aa'])\n",
            "('фабрике.', ['f', 'aa', 'b', 'rr', 'i', 'kk', 'i'])\n",
            "('Там', ['aa', 'm'])\n",
            "('я', ['j', 'ja'])\n",
            "('понял', ['p', 'oo', 'nn', 'i', 'l'])\n",
            "('о', ['oo'])\n",
            "('себе', ['ss', 'i', 'bb', 'je'])\n",
            "('главное:', ['g', 'l', 'aa', 'v', 'n', 'ay', 'i'])\n",
            "('кроме', ['k', 'r', 'oo', 'mm', 'i'])\n",
            "('интересной', ['i', 'nn', 'tt', 'i', 'rr', 'je', 's', 'n', 'ay', 'j'])\n",
            "('работы,', ['r', 'a', 'b', 'oo', 't', 'y'])\n",
            "('мне', ['m', 'nn', 'je'])\n",
            "('мало', ['m', 'ay', 'l', 'ay'])\n",
            "('что', ['ch', 't', 'oo'])\n",
            "('нужно', ['n', 'uu', 'zh', 'n', 'ay'])\n",
            "('в', ['f'])\n",
            "('жизни.', ['zh', 'yy', 'z', 'nn', 'i'])\n",
            "('Так,', ['aa', 'k'])\n",
            "('задумавшись,', ['z', 'a', 'd', 'uu', 'm', 'ay', 'f', 'sh', 'y', 'ss'])\n",
            "('я', ['j', 'ja'])\n",
            "('не', ['nn', 'je'])\n",
            "('заметил,', ['z', 'a', 'mm', 'je', 'tt', 'i', 'l'])\n",
            "('как', ['k', 'aa', 'k'])\n",
            "('заснул.', ['z', 'a', 's', 'n', 'uu', 'l'])\n",
            "('Город', ['oo', 'r', 'ay', 't'])\n",
            "('-', ['j'])\n",
            "('цель', ['c', 'ee', 'll'])\n",
            "('нашего', ['n', 'aa', 'sh', 'y', 'v', 'ay'])\n",
            "('пути', ['p', 'u', 'tt', 'ii'])\n",
            "('-', ['j'])\n",
            "('был', ['b', 'yy', 'l'])\n",
            "('еще', ['j', 'je', 'sch', 'i'])\n",
            "('не', ['nn', 'je'])\n",
            "('близко.', ['b', 'll', 'ii', 's', 'k', 'ay'])\n"
          ]
        }
      ]
    },
    {
      "cell_type": "code",
      "source": [
        "final = \" \".join([\"\".join(word[1]) for word in phonetisaurus.predict(text.split(), \"model.fst\")])\n",
        "final"
      ],
      "metadata": {
        "colab": {
          "base_uri": "https://localhost:8080/",
          "height": 261
        },
        "id": "uWE1zQz9MoFF",
        "outputId": "8579d4c6-6992-429b-97b6-b30b5d2a4df4"
      },
      "execution_count": 7,
      "outputs": [
        {
          "output_type": "execute_result",
          "data": {
            "text/plain": [
              "'yl ttiihhij ssjeryj vvjechir uul vvjettir slaabyj i ttiplyj jibay byloo pakryytay tuuchimmi skvooss katooryi inagdaa prayryvaalliss luchii zayhaddjaschivay sooncay aash aftoobus noommir shyl naa zaapayt yy fssi jjehaylli f vvilliikkij staaryj goorayt ylliktrriichiskkii agnnii katoorayvay bylli vviidny dayllikoo fppirriddii oo cyntraallnaymu rayddiay ppirridavaalli llihkuuj muuzyku oor rribbjat ispalnnjal ppjessinku oolaytay assinnii nnivoollnay prrisluushyvaylssi k rayzgavooraym f aftoobussi assjetmarrjak nnje rays byvaafshyj zay granniicyj raskaazyvayl oo razlliichnyh straanayh oo muzzjeih oo gazzjetayh nnih zayschischjaujt fssioopschii raavvinstvay gayvarrjat oo nuzhddje i suddbbje abyknavvjenyh raboochih jjemay bylaa mnnje znakoomay u nays dastaataychnay mnoovay ppiishut oo vnnjeshnnih svvjazzih nniayphaddiimyh dllja mmihaynnizaacyi f abjiddinnjenniih zavoodayf ppirriddii mminnja dvayi uchjenyh gayvarriilli oo prrictajjaschij kaynffirrjencyi ashaa laybayratoorrii ssjemm llit addalaa yksppirrimmjentu pay pravvjerkki eetayj foormuly aam byloo nniizvvjesnay znachjennii fuunkcyi sayprayttivlljennii asoobbinay prrii vysookaym davlljennii nayt pavvjerhnayssttjuj zhyytkaysstti pyyty paykazaalli chtoo anoo raavnay ddissitti f ppjatayj ssttjeppinni usloovnyh jiddinniic traynay j atvvjettil jivoo tavaarrisch j aa naysh prripaydavaattill rrivooggin f lljekcyi nayzyvaal druguuuj cyyfru chivviidnay eetay vyzyvaaicay nnirayvnammjernym rayzmmischjenniim plootnaysstti saystavlljaujschih duumayuj ttippjerr nayday izuchiitt satnasheennii dllinyy i abjjemay h rayzgavoor byyl safssjem nnipannjatnym dllja mminnja abrattiil vnnimaannii naa zheennschinu katoorayi uzhee nnje f ppjervyj rays sazhaalay naa ssiddjennji svayivoo maylyshaa yyzhyj maallchik katooraymu byloo gooday trri atvaraachivaylssi vyryvaalssi pakaazyvayl maammi roozayvyj jizyyk rrishyyl chtoo maamay ssijchjas rassjerddicay oo anaa staraaiss sayhrannjatt strooggij vviit nnje maglaa nnje ulybaacay yylay vviidnay chtoo anaa oochinn lljubbit svayivoo syynay schitaait chtoo luutshy nnit ddittjej naa svvjetti oon saamyj uumnyj saamyj mmiilyj saamyj vvjessilyj nyj shaluun mook pazvoollitt ssibbje mnoogayi atyskaal f daroozhnayj suumkki knniigu oo zhyvootnyh katooruuj kuppiil dllja doochkki vyynul jjei atkryyl aa ppjervayj stranniicy pay gayluboomu nnjebu llittjelli gaylubbii jjaddi eetay ktoo j sprassiil malyysh zaglljadyvayi naa slljeduujschujuj stranniicu too kkiit tyy znaaish skoollkay kkilaygramoof oon vvjessit too koollkay saynnttimmjetrayf f ssikuundu oon prayplyvaait vaacaytt it ssiillnyj n jjest mmjasay mmit too jivoo nayrrisavaal udazhnniik aproosy slljedayvaylli addiin zay druggiim yy prrivllikllii vnnimaannii paysazhyyrayf ssi s ulyypkayj slliddiilli zay naammi akannjec maamay skazaalay uuraychkay dushaa mooi uzhee pooznay skooray nooch ddiss nnillzzja shummjett oojddim spaatt jitt ssujdaa nachjalay uraa sayprayttivlljalssi taschiil maamu f stooraynu atoom zattiih ddirzhaa f ruukki zhyltoovay ppissiikay gay dyhaannii byloo chujtt slyyshnay vyykllujchil laampaychku dnnivnoovay svvjetay iit sppjaschivay rribbjenkay vyyzvayl voo mnnje vayspaymminaannii oo mooim ddjectvvi oogday bbidaa haddiilay rrjadaym i daazhy nniayphaddiimyj dllja zhyyznni hlljep vydavaalli graamaymmi atoom fspoomnnil ap uchjebbi f vuuzzi oo ppjervyh goodayh naa faabrrikki aam jja poonnil oo ssibbje glaavnayi kroommi innttirrjesnayj rabooty mnnje maylay chtoo nuuzhnay f zhyyznni aak zaduumayfshyss jja nnje zammjettil kaak zasnuul oorayt j ceell naashyvay puttii j byyl jjeschi nnje blliiskay'"
            ],
            "application/vnd.google.colaboratory.intrinsic+json": {
              "type": "string"
            }
          },
          "metadata": {},
          "execution_count": 7
        }
      ]
    },
    {
      "cell_type": "code",
      "source": [
        "with open(\"output_text.txt\", \"wt\", encoding=\"utf-8\") as file:\n",
        "  file.write(final)"
      ],
      "metadata": {
        "id": "IsjJgB5lM9Xz"
      },
      "execution_count": 8,
      "outputs": []
    }
  ]
}