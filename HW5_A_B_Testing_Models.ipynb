{
  "nbformat": 4,
  "nbformat_minor": 0,
  "metadata": {
    "colab": {
      "provenance": [],
      "authorship_tag": "ABX9TyOvvoQXM71d1xCpIElfBrG0",
      "include_colab_link": true
    },
    "kernelspec": {
      "name": "python3",
      "display_name": "Python 3"
    },
    "language_info": {
      "name": "python"
    }
  },
  "cells": [
    {
      "cell_type": "markdown",
      "metadata": {
        "id": "view-in-github",
        "colab_type": "text"
      },
      "source": [
        "<a href=\"https://colab.research.google.com/github/Arseniy-Polyakov/speech_technologies_course/blob/main/HW5_A_B_Testing_Models.ipynb\" target=\"_parent\"><img src=\"https://colab.research.google.com/assets/colab-badge.svg\" alt=\"Open In Colab\"/></a>"
      ]
    },
    {
      "cell_type": "markdown",
      "source": [
        "Проведем А/В тестирование двух моделей распознавания речи: NEXARA и \"Шопот\""
      ],
      "metadata": {
        "id": "8dqnCgyU9VMd"
      }
    },
    {
      "cell_type": "markdown",
      "source": [
        "Установим библиотеки для подсчета cer, wer"
      ],
      "metadata": {
        "id": "ZYxZO2Wq8VTS"
      }
    },
    {
      "cell_type": "code",
      "source": [
        "!pip install jiwer"
      ],
      "metadata": {
        "colab": {
          "base_uri": "https://localhost:8080/"
        },
        "id": "k5P6Ntdn8eNp",
        "outputId": "fb06f775-58c1-43c3-e7be-0a05973cd717"
      },
      "execution_count": null,
      "outputs": [
        {
          "output_type": "stream",
          "name": "stdout",
          "text": [
            "Requirement already satisfied: jiwer in /usr/local/lib/python3.12/dist-packages (4.0.0)\n",
            "Requirement already satisfied: click>=8.1.8 in /usr/local/lib/python3.12/dist-packages (from jiwer) (8.3.0)\n",
            "Requirement already satisfied: rapidfuzz>=3.9.7 in /usr/local/lib/python3.12/dist-packages (from jiwer) (3.14.1)\n"
          ]
        }
      ]
    },
    {
      "cell_type": "markdown",
      "source": [
        "Импортируем модули для работы с данными и статистиками"
      ],
      "metadata": {
        "id": "bcm-rQYEBlkN"
      }
    },
    {
      "cell_type": "code",
      "source": [
        "import pandas as pd\n",
        "from jiwer import cer, wer"
      ],
      "metadata": {
        "id": "vURxxlPI8gz1"
      },
      "execution_count": null,
      "outputs": []
    },
    {
      "cell_type": "markdown",
      "source": [
        "Укажем целевой текст"
      ],
      "metadata": {
        "id": "AXh4IqIw8l-a"
      }
    },
    {
      "cell_type": "code",
      "source": [
        "target_text = \"\"\"На данном этапе в Data Science NLP является одним из самых популярных направлений, наряду с компьютерным зрением и рекомендательными системами. И сегодня можно рассказать немножко о методах, которые включаются NLP. Что такое в принципе NLP? NLP это Natural Language Processing, это автоматическая обработка текста с помощью компьютерных либо математических методов.\n",
        "Ну и самое основное, что это методы, которые помогают понять значение языка и сделать определенные манипуляции с текстом либо с языком. Ну и от этого выходят основные задачи. Мы можем с помощью данных методов классифицировать тексты, то есть определять их на разные группы. Допустим, в контексте сентимент-анализа, когда нам нужно определить, положительные ли это тексты, либо негативные.\n",
        "Также можно выделить эмоции текстов, допустим, грусть, радость, печаль, удивление и так далее. Либо разбить тексты по топикам или, как их называют в диалоговых системах, интенты для построения флоу диалога и ведения его, или в целом построения архитектуры FAQ в чат-ботах или голосовых ассистентах.\n",
        "Кластеризация — это задача определения групп без меток, то есть у нас есть неразмеченные данные, и задача кластеризации будет относиться к задаче unsupervised learning, то есть это обучение без учителя, так как мы имеем дело с неразмеченными данными в отличие от классификации обучение с учителем.\n",
        "Также есть классические задачи машинного перевода, и на самом деле в NLP они являются одними из самых, наверное, старых, потому что применялись еще в прошлом веке в контексте электротехнического автоматического перевода, либо там французско-русского автоматического перевода.\n",
        "И это все было задействовано на электротехнических текстах, на текстах, посвященных инженерии, электронике и механике. То есть тех текстов, в которых не такой богатый грамматический ряд, и скорее больше вариативности лексики, и причем узконаправленной лексики.\n",
        "И в дальнейшем эти задачи модернизировались, и сейчас мы видим более продвинутый нейросетевой машинный перевод. Также можно выделить суммаризацию текстов, либо ее отдельную подзадачу, это задача симплификации. Но это используется обычно в реферировании работ, в написании автоматических аннотаций, Ну или в тех же поисковых системах, когда мы можем видеть в начале перед всеми ссылками сайтов такой некий драфт, некое сокращение от общей информации после того, как мы ввели поисковый запрос.\n",
        "И это тоже является вариантом суммаризации текстов. Симплификация используется, как и в бизнесе, в маркетинге Для того, чтобы сделать тексты проще для определенной целевой аудитории Для того, чтобы повысить конверсию и удовлетворенность клиента тем или иным продуктом Ну и также может использоваться в науке для адаптации текстов под определенный уровень языка Допустим, если мы говорим про CEFR-уровни владения тем или иным иностранным языком\"\"\""
      ],
      "metadata": {
        "id": "Ev40eb4n2ENv"
      },
      "execution_count": null,
      "outputs": []
    },
    {
      "cell_type": "markdown",
      "source": [
        "Укажем полученные тексты в результате транскрибации двумя моделями"
      ],
      "metadata": {
        "id": "_rHk92Ly8pDk"
      }
    },
    {
      "cell_type": "code",
      "source": [
        "text_shopot = \"\"\"На данном этапе в Data Science NLP является одним из самых популярных направлений, наряду с компьютерным зрением и рекомендательными системами. И сегодня можно рассказать немножко о методах, которые включаются в NLP. Что такое в принципе NLP? NLP это Nature Language Processing, это автоматическая обработка текста с помощью компьютерных либо математических методов.\n",
        "Ну и самое основное, что это методы, которые помогают понять значение языка и сделать определенные манипуляции с текстом либо с языком. Ну и от этого выходят основные задачи. Мы можем с помощью данных методов классифицировать тексты, то есть определять их на разные группы. Допустим, в контексте сентимент-анализа, когда нам нужно определить, положительные ли это тексты, либо негативные.\n",
        "Также можно выделить эмоции текстов, допустим, грусть, радость, печаль, удивление и так далее. Либо разбить тексты по топикам или, как их называют в диалоговых системах, интенты для построения флоу диалога и ведения его, или в целом построения архитектуры FAQ в чат-ботах или голосовых ассистентах.\n",
        "Кластеризация — это задача определения групп без меток, то есть у нас есть неразмеченные данные, и задача кластеризации будет относиться к задаче unsupervised learning, то есть это обучение без учителя, так как мы имеем дело с неразмеченными данными в отличие от классификации обучения с учителем.\n",
        "Также есть классические задачи машинного перевода, и на самом деле в NLP они являются одними из самых, наверное, старых, потому что применялись еще в прошлом веке в контексте электротехнического автоматического перевода, либо там французско-русского автоматического перевода.\n",
        "И это все было задействовано на электротехнических текстах, на текстах, посвященных инженерии, электронике и механике. То есть тех текстов, в которых нет такой богатый грамматический ряд, и скорее больше вариативности лексики, причем узконаправленной лексики.\n",
        "И в дальнейшем эти задачи модернизировались, и сейчас мы видим более продвинутый нейросетевой машинный перевод. Также можно выделить суммаризацию текстов, либо ее отдельно под задачу, это задача симплификации. Но это используется обычно в реферировании работ, в написании автоматических аннотаций, Ну или в тех же поисковых системах, когда мы можем видеть в начале перед всеми ссылками сайтов такой некий драфт, некое сокращение от общей информации после того, как мы ввели поисковый запрос.\n",
        "И это тоже является вариантом суммаризации текстов. Симплификация используется, как и в бизнесе, в маркетинге Для того, чтобы сделать тексты проще для определенной целевой аудитории Для того, чтобы повысить конверсию и удовлетворенность клиента тем или иным продуктом Ну и также может использоваться в науке для адаптации текстов под определенный уровень языка Допустим, если мы говорим про CFR-уровни владения тем или иным иностранным языком\"\"\""
      ],
      "metadata": {
        "id": "7ZCECcWj2M3M"
      },
      "execution_count": null,
      "outputs": []
    },
    {
      "cell_type": "code",
      "source": [
        "text_nexara = \"\"\"На данном этапе в Data Science NLP является одним из самых популярных направлений наряду с компьютерным зрением и рекомендательными системами. И сегодня можно рассказать немножко о методах, которые включаются NLP.\n",
        "Что такое, в принципе, NLP? NLP — это Nature Language Processing, это автоматическая обработка текста с помощью компьютерных либо математических методов.\n",
        "Ну и самое основное, что это методики, методы, которые помогают понять значение языка и сделать определенные манипуляции с текстом либо с языком.\n",
        "Ну и от этого выходят основные задачи. Мы можем с помощью данных методов классифицировать тексты, то есть определять их на разные группы.\n",
        "Допустим, в контексте сентимент-анализа, когда нам нужно определить положительные ли это тексты, либо негативные.\n",
        "Также можно выделить эмоции текстов. допустим, грусть, радость, печаль, удивление и так далее.\n",
        "Либо разбить тексты по топикам или как их называют в диалоговых системах интенты для построения флоу-диалога и введения его или в целом построения архитектуры FIQ в чат-ботах или голосовых ассистентах.\n",
        "Квастеризация — это задача определения групп без меток. То есть у нас есть... неразмеченные данные, и задача кластеризации, она будет относиться к задаче Unsupervised Learning, то есть это обучение без учителя, так как мы имеем дело с неразмеченными данными в отличие от классификации обучения с учителем.\n",
        "Также есть классические задачи машинного перевода, и на самом деле в NLP они являются одними из самых, наверное, старых, потому что применялись еще в прошлом веке в контексте электротехнического автоматического перевода, либо там французско-русского автоматического перевода, и это все было задействовано на электротехнических текстах, на текстах, посвященных инженерии, электронике и механике, то есть тех текстов, в которых нет такой богатый грамматический ряд, и скорее больше вариативности лексики, причем узконаправленной лексики.\n",
        "И в дальнейшем эти задачи модернизировались, и сейчас мы видим более продвинутый нейросетевой машинный перевод. Также можно выделить суммаризацию текстов, либо ее отдельно под задачу, это задача симплификации, но это используется обычно в реферировании работ, в написании автоматически аннотации, ну или в тех же поисковых системах, когда мы можем видеть в начале, перед всеми ссылками сайтов, такой некий драфт, некое сокращение от общей информации после того, как мы ввели поисковый запрос, и это тоже является вариантом суммаризации текстов.\n",
        "Симплификация используется как и в бизнесе, в маркетинге, для того, чтобы сделать тексты проще для определенной целевой аудитории, для того, чтобы повысить конверсию и удовлетворенность клиента тем или иным продуктам, ну и также может использоваться в науке для адаптации текстов под определенный уровень языка, допустим, если мы говорим про CFR уровни владения тем или иным иностранным языком.\"\"\""
      ],
      "metadata": {
        "id": "CflXp0G_6QOR"
      },
      "execution_count": null,
      "outputs": []
    },
    {
      "cell_type": "markdown",
      "source": [
        "Посчитаем cer и wer для каждой из моделей"
      ],
      "metadata": {
        "id": "7wAwoUB48uJm"
      }
    },
    {
      "cell_type": "code",
      "source": [
        "cer_shopot = round(cer(text_shopot, target_text), 4)\n",
        "wer_shopot = round(wer(text_shopot, target_text), 4)\n",
        "\n",
        "cer_nexara = round(cer(text_nexara, target_text), 4)\n",
        "wer_nexara = round(wer(text_nexara, target_text), 4)\n",
        "\n",
        "cer_whole = [cer_shopot, cer_nexara]\n",
        "wer_whole = [wer_shopot, wer_nexara]\n",
        "\n",
        "df = pd.DataFrame(cer_whole, columns=[\"CER\"], index=[\"SHOPOT\", \"NEXARA\"])\n",
        "df[\"WER\"] = wer_whole\n",
        "df"
      ],
      "metadata": {
        "colab": {
          "base_uri": "https://localhost:8080/",
          "height": 112
        },
        "id": "5wSRvc9Y3Uex",
        "outputId": "bc2e3e54-228a-4f5a-ded2-5f5dda129b2a"
      },
      "execution_count": null,
      "outputs": [
        {
          "output_type": "execute_result",
          "data": {
            "text/plain": [
              "           CER     WER\n",
              "SHOPOT  0.0043  0.0228\n",
              "NEXARA  0.0291  0.1563"
            ],
            "text/html": [
              "\n",
              "  <div id=\"df-6cdc5e66-3f54-4e78-a3f8-3419eb32a261\" class=\"colab-df-container\">\n",
              "    <div>\n",
              "<style scoped>\n",
              "    .dataframe tbody tr th:only-of-type {\n",
              "        vertical-align: middle;\n",
              "    }\n",
              "\n",
              "    .dataframe tbody tr th {\n",
              "        vertical-align: top;\n",
              "    }\n",
              "\n",
              "    .dataframe thead th {\n",
              "        text-align: right;\n",
              "    }\n",
              "</style>\n",
              "<table border=\"1\" class=\"dataframe\">\n",
              "  <thead>\n",
              "    <tr style=\"text-align: right;\">\n",
              "      <th></th>\n",
              "      <th>CER</th>\n",
              "      <th>WER</th>\n",
              "    </tr>\n",
              "  </thead>\n",
              "  <tbody>\n",
              "    <tr>\n",
              "      <th>SHOPOT</th>\n",
              "      <td>0.0043</td>\n",
              "      <td>0.0228</td>\n",
              "    </tr>\n",
              "    <tr>\n",
              "      <th>NEXARA</th>\n",
              "      <td>0.0291</td>\n",
              "      <td>0.1563</td>\n",
              "    </tr>\n",
              "  </tbody>\n",
              "</table>\n",
              "</div>\n",
              "    <div class=\"colab-df-buttons\">\n",
              "\n",
              "  <div class=\"colab-df-container\">\n",
              "    <button class=\"colab-df-convert\" onclick=\"convertToInteractive('df-6cdc5e66-3f54-4e78-a3f8-3419eb32a261')\"\n",
              "            title=\"Convert this dataframe to an interactive table.\"\n",
              "            style=\"display:none;\">\n",
              "\n",
              "  <svg xmlns=\"http://www.w3.org/2000/svg\" height=\"24px\" viewBox=\"0 -960 960 960\">\n",
              "    <path d=\"M120-120v-720h720v720H120Zm60-500h600v-160H180v160Zm220 220h160v-160H400v160Zm0 220h160v-160H400v160ZM180-400h160v-160H180v160Zm440 0h160v-160H620v160ZM180-180h160v-160H180v160Zm440 0h160v-160H620v160Z\"/>\n",
              "  </svg>\n",
              "    </button>\n",
              "\n",
              "  <style>\n",
              "    .colab-df-container {\n",
              "      display:flex;\n",
              "      gap: 12px;\n",
              "    }\n",
              "\n",
              "    .colab-df-convert {\n",
              "      background-color: #E8F0FE;\n",
              "      border: none;\n",
              "      border-radius: 50%;\n",
              "      cursor: pointer;\n",
              "      display: none;\n",
              "      fill: #1967D2;\n",
              "      height: 32px;\n",
              "      padding: 0 0 0 0;\n",
              "      width: 32px;\n",
              "    }\n",
              "\n",
              "    .colab-df-convert:hover {\n",
              "      background-color: #E2EBFA;\n",
              "      box-shadow: 0px 1px 2px rgba(60, 64, 67, 0.3), 0px 1px 3px 1px rgba(60, 64, 67, 0.15);\n",
              "      fill: #174EA6;\n",
              "    }\n",
              "\n",
              "    .colab-df-buttons div {\n",
              "      margin-bottom: 4px;\n",
              "    }\n",
              "\n",
              "    [theme=dark] .colab-df-convert {\n",
              "      background-color: #3B4455;\n",
              "      fill: #D2E3FC;\n",
              "    }\n",
              "\n",
              "    [theme=dark] .colab-df-convert:hover {\n",
              "      background-color: #434B5C;\n",
              "      box-shadow: 0px 1px 3px 1px rgba(0, 0, 0, 0.15);\n",
              "      filter: drop-shadow(0px 1px 2px rgba(0, 0, 0, 0.3));\n",
              "      fill: #FFFFFF;\n",
              "    }\n",
              "  </style>\n",
              "\n",
              "    <script>\n",
              "      const buttonEl =\n",
              "        document.querySelector('#df-6cdc5e66-3f54-4e78-a3f8-3419eb32a261 button.colab-df-convert');\n",
              "      buttonEl.style.display =\n",
              "        google.colab.kernel.accessAllowed ? 'block' : 'none';\n",
              "\n",
              "      async function convertToInteractive(key) {\n",
              "        const element = document.querySelector('#df-6cdc5e66-3f54-4e78-a3f8-3419eb32a261');\n",
              "        const dataTable =\n",
              "          await google.colab.kernel.invokeFunction('convertToInteractive',\n",
              "                                                    [key], {});\n",
              "        if (!dataTable) return;\n",
              "\n",
              "        const docLinkHtml = 'Like what you see? Visit the ' +\n",
              "          '<a target=\"_blank\" href=https://colab.research.google.com/notebooks/data_table.ipynb>data table notebook</a>'\n",
              "          + ' to learn more about interactive tables.';\n",
              "        element.innerHTML = '';\n",
              "        dataTable['output_type'] = 'display_data';\n",
              "        await google.colab.output.renderOutput(dataTable, element);\n",
              "        const docLink = document.createElement('div');\n",
              "        docLink.innerHTML = docLinkHtml;\n",
              "        element.appendChild(docLink);\n",
              "      }\n",
              "    </script>\n",
              "  </div>\n",
              "\n",
              "\n",
              "    <div id=\"df-97201d69-2f87-484c-af3c-b2cc5c8b6a41\">\n",
              "      <button class=\"colab-df-quickchart\" onclick=\"quickchart('df-97201d69-2f87-484c-af3c-b2cc5c8b6a41')\"\n",
              "                title=\"Suggest charts\"\n",
              "                style=\"display:none;\">\n",
              "\n",
              "<svg xmlns=\"http://www.w3.org/2000/svg\" height=\"24px\"viewBox=\"0 0 24 24\"\n",
              "     width=\"24px\">\n",
              "    <g>\n",
              "        <path d=\"M19 3H5c-1.1 0-2 .9-2 2v14c0 1.1.9 2 2 2h14c1.1 0 2-.9 2-2V5c0-1.1-.9-2-2-2zM9 17H7v-7h2v7zm4 0h-2V7h2v10zm4 0h-2v-4h2v4z\"/>\n",
              "    </g>\n",
              "</svg>\n",
              "      </button>\n",
              "\n",
              "<style>\n",
              "  .colab-df-quickchart {\n",
              "      --bg-color: #E8F0FE;\n",
              "      --fill-color: #1967D2;\n",
              "      --hover-bg-color: #E2EBFA;\n",
              "      --hover-fill-color: #174EA6;\n",
              "      --disabled-fill-color: #AAA;\n",
              "      --disabled-bg-color: #DDD;\n",
              "  }\n",
              "\n",
              "  [theme=dark] .colab-df-quickchart {\n",
              "      --bg-color: #3B4455;\n",
              "      --fill-color: #D2E3FC;\n",
              "      --hover-bg-color: #434B5C;\n",
              "      --hover-fill-color: #FFFFFF;\n",
              "      --disabled-bg-color: #3B4455;\n",
              "      --disabled-fill-color: #666;\n",
              "  }\n",
              "\n",
              "  .colab-df-quickchart {\n",
              "    background-color: var(--bg-color);\n",
              "    border: none;\n",
              "    border-radius: 50%;\n",
              "    cursor: pointer;\n",
              "    display: none;\n",
              "    fill: var(--fill-color);\n",
              "    height: 32px;\n",
              "    padding: 0;\n",
              "    width: 32px;\n",
              "  }\n",
              "\n",
              "  .colab-df-quickchart:hover {\n",
              "    background-color: var(--hover-bg-color);\n",
              "    box-shadow: 0 1px 2px rgba(60, 64, 67, 0.3), 0 1px 3px 1px rgba(60, 64, 67, 0.15);\n",
              "    fill: var(--button-hover-fill-color);\n",
              "  }\n",
              "\n",
              "  .colab-df-quickchart-complete:disabled,\n",
              "  .colab-df-quickchart-complete:disabled:hover {\n",
              "    background-color: var(--disabled-bg-color);\n",
              "    fill: var(--disabled-fill-color);\n",
              "    box-shadow: none;\n",
              "  }\n",
              "\n",
              "  .colab-df-spinner {\n",
              "    border: 2px solid var(--fill-color);\n",
              "    border-color: transparent;\n",
              "    border-bottom-color: var(--fill-color);\n",
              "    animation:\n",
              "      spin 1s steps(1) infinite;\n",
              "  }\n",
              "\n",
              "  @keyframes spin {\n",
              "    0% {\n",
              "      border-color: transparent;\n",
              "      border-bottom-color: var(--fill-color);\n",
              "      border-left-color: var(--fill-color);\n",
              "    }\n",
              "    20% {\n",
              "      border-color: transparent;\n",
              "      border-left-color: var(--fill-color);\n",
              "      border-top-color: var(--fill-color);\n",
              "    }\n",
              "    30% {\n",
              "      border-color: transparent;\n",
              "      border-left-color: var(--fill-color);\n",
              "      border-top-color: var(--fill-color);\n",
              "      border-right-color: var(--fill-color);\n",
              "    }\n",
              "    40% {\n",
              "      border-color: transparent;\n",
              "      border-right-color: var(--fill-color);\n",
              "      border-top-color: var(--fill-color);\n",
              "    }\n",
              "    60% {\n",
              "      border-color: transparent;\n",
              "      border-right-color: var(--fill-color);\n",
              "    }\n",
              "    80% {\n",
              "      border-color: transparent;\n",
              "      border-right-color: var(--fill-color);\n",
              "      border-bottom-color: var(--fill-color);\n",
              "    }\n",
              "    90% {\n",
              "      border-color: transparent;\n",
              "      border-bottom-color: var(--fill-color);\n",
              "    }\n",
              "  }\n",
              "</style>\n",
              "\n",
              "      <script>\n",
              "        async function quickchart(key) {\n",
              "          const quickchartButtonEl =\n",
              "            document.querySelector('#' + key + ' button');\n",
              "          quickchartButtonEl.disabled = true;  // To prevent multiple clicks.\n",
              "          quickchartButtonEl.classList.add('colab-df-spinner');\n",
              "          try {\n",
              "            const charts = await google.colab.kernel.invokeFunction(\n",
              "                'suggestCharts', [key], {});\n",
              "          } catch (error) {\n",
              "            console.error('Error during call to suggestCharts:', error);\n",
              "          }\n",
              "          quickchartButtonEl.classList.remove('colab-df-spinner');\n",
              "          quickchartButtonEl.classList.add('colab-df-quickchart-complete');\n",
              "        }\n",
              "        (() => {\n",
              "          let quickchartButtonEl =\n",
              "            document.querySelector('#df-97201d69-2f87-484c-af3c-b2cc5c8b6a41 button');\n",
              "          quickchartButtonEl.style.display =\n",
              "            google.colab.kernel.accessAllowed ? 'block' : 'none';\n",
              "        })();\n",
              "      </script>\n",
              "    </div>\n",
              "    </div>\n",
              "  </div>\n"
            ],
            "application/vnd.google.colaboratory.intrinsic+json": {
              "type": "dataframe",
              "variable_name": "df",
              "summary": "{\n  \"name\": \"df\",\n  \"rows\": 2,\n  \"fields\": [\n    {\n      \"column\": \"CER\",\n      \"properties\": {\n        \"dtype\": \"number\",\n        \"std\": 0.017536248173426378,\n        \"min\": 0.0043,\n        \"max\": 0.0291,\n        \"num_unique_values\": 2,\n        \"samples\": [\n          0.0291,\n          0.0043\n        ],\n        \"semantic_type\": \"\",\n        \"description\": \"\"\n      }\n    },\n    {\n      \"column\": \"WER\",\n      \"properties\": {\n        \"dtype\": \"number\",\n        \"std\": 0.0943987552884041,\n        \"min\": 0.0228,\n        \"max\": 0.1563,\n        \"num_unique_values\": 2,\n        \"samples\": [\n          0.1563,\n          0.0228\n        ],\n        \"semantic_type\": \"\",\n        \"description\": \"\"\n      }\n    }\n  ]\n}"
            }
          },
          "metadata": {},
          "execution_count": 24
        }
      ]
    },
    {
      "cell_type": "markdown",
      "source": [
        "В результате данного эксперимента модель Nexara показала результаты хуже, чем модель Шопот: как и в аспекте cer, так и в аспекте wer.\n",
        "\n",
        "Обе модели превысили стандартные общеупотребительные бейзлайны бизнеса по качеству моделей (wer < 5%).\n",
        "\n",
        "Однако обе имели схожие ошибки в распознавании аббревиатур (CEFR, Common European Framework of References было распознано как CFR), английских слов (Natural как Nature), а также были ложные вставки служебных частей речи (хоть они и были синтаксически обоснованы, однако в исходном варианте их не было), например, \"наблюдается в NLP\", исходный вариант был \"наблюдается NLP\".\n",
        "\n",
        "Модель Nexara в свою очередь также ошибочно распознала несколько терминов: FAQ распозналось как FIQ, а \"кластеризация\" как \"квастеризация\".\n",
        "\n",
        "Стоит отметить также некоторые особенности двух моделей: обе модели не выдали в выходном варианте слово, которое было исправлено (на записи в одном их примеров я изначально начал говорить \"классификация\" вместо \"кластеризация\", однако не успев произнести до конца, перебился и начал произносить новое слово). Модели не использовали первое слово, а только то, на которое я исправился в дальнейшем.\n",
        "\n",
        "Модель Nexara также учитывает экстралингвистические особенности речи, указывает многоточием длинные паузы в диалоге.\n",
        "\n",
        "В каких случах стоит использовать cer, а в каких wer?\n",
        "Я считаю, что метрика cer больше подойдет для сравнения качества работы моделей на коротких записях (например: стандартного чанка в 30 секунд и меньше), так как за этот период будет меньше слов в целом. Также cer может быть использована вместо wer, если у текста относительно низкая средняя длина слов, а также большое количество служебных частей речи. К тому же cer покажет большую точность в системах языков, где символы могут нести в себе определенный смысл.\n",
        "Wer в свою очередь стоит использовать в языках, где слова являются отдельными единицами смысла, а также где стоит учесть акцент на качестве распознавания определенных слов (например: в формате транскрибации лекции)."
      ],
      "metadata": {
        "id": "f4sDzXTu8yhh"
      }
    }
  ]
}